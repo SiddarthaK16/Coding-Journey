{
 "cells": [
  {
   "cell_type": "raw",
   "id": "9a4a4704-2c6f-4211-a52e-2ce3914160bb",
   "metadata": {},
   "source": [
    "Class\n",
    "Concept: A blueprint or template that defines the structure and behavior of objects.\n",
    "\n",
    "What it contains: Attributes (data/variables) and methods (functions/behaviors).\n",
    "\n",
    "Purpose: Provides a way to model real-world entities in code without creating actual instances yet.\n",
    "\n",
    "Key idea: Think of it like a blueprint for a house.\n",
    "\n",
    "Object\n",
    "\n",
    "Concept: A concrete instance of a class. Each object has its own state but shares the structure and behavior defined by the class.\n",
    "\n",
    "Purpose: Represents a real-world entity with specific values assigned to its attributes.\n",
    "\n",
    "Key idea: Think of it like the actual house built from the blueprint."
   ]
  },
  {
   "cell_type": "raw",
   "id": "054acec9-5215-438e-b45b-20df902f9dc2",
   "metadata": {},
   "source": [
    "1️⃣ Encapsulation\n",
    "\n",
    "Concept: Bundling data (attributes) and methods (functions) that operate on that data into a single unit—a class.\n",
    "\n",
    "Purpose: Protects internal object state by restricting direct access from outside the class.\n",
    "\n",
    "Key idea: Control how the data is accessed or modified.\n",
    "\n",
    "2️⃣ Abstraction\n",
    "\n",
    "Concept: Hiding the internal implementation details and exposing only the essential features to the user.\n",
    "\n",
    "Purpose: Simplifies interaction with complex systems, making code easier to use and maintain.\n",
    "\n",
    "Key idea: Focus on what an object does, not how it does it.\n",
    "\n",
    "3️⃣ Inheritance\n",
    "\n",
    "Concept: Allows a new class (child/subclass) to acquire properties and behaviors of an existing class (parent/superclass).\n",
    "\n",
    "Purpose: Promotes code reusability and reduces duplication.\n",
    "\n",
    "Key idea: Build on existing functionality and extend it with new features.\n",
    "\n",
    "4️⃣ Polymorphism\n",
    "\n",
    "Concept: The ability of different classes to respond to the same interface (method or operator) in different ways.\n",
    "\n",
    "Purpose: Increases flexibility and allows the same operation to behave differently depending on the context.\n",
    "\n",
    "Key idea: Same action, different behavior."
   ]
  },
  {
   "cell_type": "code",
   "execution_count": 6,
   "id": "f6887cc9-2c8a-4e13-906c-09326ff403c9",
   "metadata": {},
   "outputs": [
    {
     "name": "stdout",
     "output_type": "stream",
     "text": [
      "Hey Poshya of Tirupati , Happiest birthday. Finally you are 13 now\n"
     ]
    }
   ],
   "source": [
    "class human:\n",
    "\n",
    "    def __init__(self,name,place,age):\n",
    "        self.name=name\n",
    "        self.place=place\n",
    "        self.age=age\n",
    "\n",
    "    def greet(self):\n",
    "        return f'Hey {self.name} of {self.place} , Happiest birthday. Finally you are {self.age} now'\n",
    "\n",
    "\n",
    "human1=human(\"Poshya\",\"Tirupati\",13)\n",
    "print(human1.greet())"
   ]
  },
  {
   "cell_type": "code",
   "execution_count": 7,
   "id": "507973e7-4f94-433f-8c87-00832b929935",
   "metadata": {},
   "outputs": [
    {
     "name": "stdout",
     "output_type": "stream",
     "text": [
      "Woof! I am Buddy\n",
      "All dogs belong to Canine\n",
      "Dogs love treats!\n"
     ]
    }
   ],
   "source": [
    "class Dog:\n",
    "    # Class attribute\n",
    "    species = \"Canine\"\n",
    "\n",
    "    def __init__(self, name):\n",
    "        self.name = name  # Instance attribute\n",
    "\n",
    "    # Instance method\n",
    "    def greet(self):\n",
    "        return f\"Woof! I am {self.name}\"\n",
    "\n",
    "    # Class method\n",
    "    @classmethod\n",
    "    def species_info(cls):\n",
    "        return f\"All dogs belong to {cls.species}\"\n",
    "\n",
    "    # Static method\n",
    "    @staticmethod\n",
    "    def tip():\n",
    "        return \"Dogs love treats!\"\n",
    "\n",
    "\n",
    "# Objects\n",
    "dog1 = Dog(\"Buddy\")\n",
    "dog2 = Dog(\"Max\")\n",
    "\n",
    "# Calls\n",
    "print(dog1.greet())          # Instance method\n",
    "print(Dog.species_info())    # Class method\n",
    "print(Dog.tip())             # Static method\n"
   ]
  },
  {
   "cell_type": "code",
   "execution_count": null,
   "id": "6bc12c65-81de-41f6-8305-f4f70d107998",
   "metadata": {},
   "outputs": [],
   "source": []
  }
 ],
 "metadata": {
  "kernelspec": {
   "display_name": "Python 3 (ipykernel)",
   "language": "python",
   "name": "python3"
  },
  "language_info": {
   "codemirror_mode": {
    "name": "ipython",
    "version": 3
   },
   "file_extension": ".py",
   "mimetype": "text/x-python",
   "name": "python",
   "nbconvert_exporter": "python",
   "pygments_lexer": "ipython3",
   "version": "3.13.5"
  }
 },
 "nbformat": 4,
 "nbformat_minor": 5
}
